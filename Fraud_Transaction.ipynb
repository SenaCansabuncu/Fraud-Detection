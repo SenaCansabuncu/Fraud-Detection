{
  "nbformat": 4,
  "nbformat_minor": 0,
  "metadata": {
    "colab": {
      "name": "Fraud_Transaction.ipynb",
      "provenance": [],
      "collapsed_sections": [],
      "include_colab_link": true
    },
    "kernelspec": {
      "name": "python3",
      "display_name": "Python 3"
    }
  },
  "cells": [
    {
      "cell_type": "markdown",
      "metadata": {
        "id": "view-in-github",
        "colab_type": "text"
      },
      "source": [
        "<a href=\"https://colab.research.google.com/github/SenaCansabuncu/Python_Code/blob/master/Fraud_Transaction.ipynb\" target=\"_parent\"><img src=\"https://colab.research.google.com/assets/colab-badge.svg\" alt=\"Open In Colab\"/></a>"
      ]
    },
    {
      "cell_type": "markdown",
      "metadata": {
        "id": "tuas-XgjTboM",
        "colab_type": "text"
      },
      "source": [
        "**Libraries**\n"
      ]
    },
    {
      "cell_type": "code",
      "metadata": {
        "id": "ZIwJDyXYwLDJ",
        "colab_type": "code",
        "colab": {}
      },
      "source": [
        "import numpy as np # linear algebra\n",
        "import pandas as pd # data processing, CSV file I/O (e.g. pd.read_csv)\n",
        "import csv\n",
        "import numpy as np # linear algebra\n",
        "import pandas as pd # data processing, CSV file I/O (e.g. pd.read_csv)\n",
        "import seaborn as sns\n",
        "import matplotlib\n",
        "import matplotlib.pyplot as plt\n",
        "import datetime as dt\n",
        "import xgboost as xgb\n",
        "from sklearn.preprocessing import LabelEncoder\n",
        "from sklearn.model_selection import GridSearchCV, train_test_split,cross_val_score\n",
        "from sklearn.metrics import confusion_matrix, f1_score, precision_recall_curve,average_precision_score,precision_score,recall_score\n",
        "from sklearn.metrics import classification_report\n",
        "%matplotlib inline\n",
        "\n",
        "pd.set_option('display.float_format', lambda x: '%.3f' % x)\n",
        "\n",
        "import itertools\n",
        "# Input data files are available in the \"../input/\" directory.\n",
        "# For example, running this (by clicking run or pressing Shift+Enter) will list the files in the input directory\n",
        "from sklearn.metrics import mean_squared_error\n",
        "from math import sqrt\n",
        "from sklearn.preprocessing import StandardScaler\n",
        "import os\n",
        "\n",
        "pd.options.mode.chained_assignment = None\n",
        "pd.set_option('display.max_columns', 500)\n",
        "from sklearn.utils import shuffle\n",
        "from sklearn.metrics import accuracy_score\n",
        "from sklearn.model_selection import KFold "
      ],
      "execution_count": 0,
      "outputs": []
    },
    {
      "cell_type": "markdown",
      "metadata": {
        "id": "mjWLB12STxvJ",
        "colab_type": "text"
      },
      "source": [
        "**Read** **File** "
      ]
    },
    {
      "cell_type": "code",
      "metadata": {
        "id": "wo1fr-DPS8gF",
        "colab_type": "code",
        "outputId": "59206424-2513-4d88-fd6b-b31015bd2f6a",
        "colab": {
          "base_uri": "https://localhost:8080/",
          "height": 51
        }
      },
      "source": [
        "df_total = pd.DataFrame()\n",
        "print(df_total.shape)\n",
        "\n",
        "\n",
        "#df_total=pd.read_csv('../content/train-v3.csv', header=0)\n",
        "df_total=pd.read_csv('../train-v3.csv', header=0)\n",
        "\n",
        "print(df_total.shape)\n",
        "\n"
      ],
      "execution_count": 0,
      "outputs": [
        {
          "output_type": "stream",
          "text": [
            "(0, 0)\n",
            "(1048575, 12)\n"
          ],
          "name": "stdout"
        }
      ]
    },
    {
      "cell_type": "markdown",
      "metadata": {
        "id": "JKpqKUpZUD3Y",
        "colab_type": "text"
      },
      "source": [
        "**Data Analysis**\n"
      ]
    },
    {
      "cell_type": "code",
      "metadata": {
        "id": "MlvQN6iEUBer",
        "colab_type": "code",
        "outputId": "6475af00-a354-4041-f23c-b0eb13519e60",
        "colab": {
          "base_uri": "https://localhost:8080/",
          "height": 455
        }
      },
      "source": [
        "\n",
        "print(\"kontrol\",df_total.dropna().empty)\n",
        "# dataframe.size \n",
        "total_size = df_total.size \n",
        "  \n",
        "# dataframe.shape \n",
        "total_shape = df_total.shape \n",
        "\n",
        "print(\"Size = {}\\nShape ={}\\n\". \n",
        "format(total_size, total_shape, total_shape[0]*total_shape[1])) \n",
        "\n",
        "\n",
        "#Control missing data\n",
        "Empty_df=df_total.empty\n",
        "\n",
        "print(\"Missing value control:\", Empty_df,\"\\n\")\n",
        "\n",
        " \n",
        "\n",
        "#Grouping_Is_Fraud_DF=df_total.groupby('isFraud').count().iloc[:,1]\n",
        "\n",
        "#print(Grouping_Is_Fraud_DF)\n",
        "\n",
        "\n",
        "# Finding index of fraud records\n",
        "#Index_Of_Fraud=df_total.index.get_indexer_for((df_total[df_total.isFraud == 1].index))\n",
        "\n",
        "\n",
        "#Control count of Fraud data  \n",
        "sns.countplot(x='isFraud',data=df_total,facecolor=(1, 1, 1, 1),\n",
        "                    linewidth=5,\n",
        "                    edgecolor=sns.color_palette(\"dark\", 5))\n",
        "plt.show()\n",
        "df_total['isFraud'].value_counts()\n",
        "\n",
        "#print(Index_Of_Fraud)\n"
      ],
      "execution_count": 0,
      "outputs": [
        {
          "output_type": "stream",
          "text": [
            "kontrol False\n",
            "Size = 12582900\n",
            "Shape =(1048575, 12)\n",
            "\n",
            "Missing value control: False \n",
            "\n"
          ],
          "name": "stdout"
        },
        {
          "output_type": "display_data",
          "data": {
            "image/png": "[encoded data removed]",
            "text/plain": [
              "<Figure size 432x288 with 1 Axes>"
            ]
          },
          "metadata": {
            "tags": []
          }
        },
        {
          "output_type": "execute_result",
          "data": {
            "text/plain": [
              "0    1048538\n",
              "1         37\n",
              "Name: isFraud, dtype: int64"
            ]
          },
          "metadata": {
            "tags": []
          },
          "execution_count": 152
        }
      ]
    },
    {
      "cell_type": "markdown",
      "metadata": {
        "id": "wBEBDlNMAKIl",
        "colab_type": "text"
      },
      "source": [
        "**Train and Test Data Preparation**"
      ]
    },
    {
      "cell_type": "code",
      "metadata": {
        "id": "Tv9wxUrVABkU",
        "colab_type": "code",
        "outputId": "533cf96a-5db4-4bff-d900-272c7975b51a",
        "colab": {
          "base_uri": "https://localhost:8080/",
          "height": 308
        }
      },
      "source": [
        "# Train data prep------------------------------------------------\n",
        "\n",
        "\n",
        "is_not_frd=df_total['isFraud']==0\n",
        "\n",
        "print(\"is not fraud:\", is_not_frd.shape)\n",
        "df_train_not_fraud=df_total[is_not_frd].iloc[0:500000]\n",
        "print(\"is not fraud:\",df_train_not_fraud.shape)\n",
        "\n",
        "is_frd =df_total['isFraud']==1\n",
        "df_train_fraud=df_total[is_frd].iloc[0:15]\n",
        "print(\"is fraud:\",df_train_fraud.shape)\n",
        "df_total_train=pd.concat([df_train_not_fraud,df_train_fraud],ignore_index=True)\n",
        "\n",
        "print(\"Train data set\\n\", df_total_train.head())\n"
      ],
      "execution_count": 0,
      "outputs": [
        {
          "output_type": "stream",
          "text": [
            "is not fraud: (1048575,)\n",
            "is not fraud: (500000, 12)\n",
            "is fraud: (15, 12)\n",
            "Train data set\n",
            "    Id  step    action     amount     nameOrig  oldBalanceOrig  newBalanceOrig  \\\n",
            "0   0     0  TRANSFER     10.000  C0198526315       30112.000       30102.000   \n",
            "1   1     1   CASH_IN 104925.190  C9864462944          42.230      104967.410   \n",
            "2   2     1   CASH_IN  37383.170  C1474610910          49.830       37433.010   \n",
            "3   3     1   CASH_IN 131908.490  C1474610910       37433.010      169341.490   \n",
            "4   4     1   CASH_IN 127105.650  C1474610910      169341.490      296447.140   \n",
            "\n",
            "      nameDest  oldBalanceDest  newBalanceDest  isFraud  isFlaggedFraud  \n",
            "0  C4653045645       21927.840       21937.840        0               0  \n",
            "1  C7853342674           0.000           0.000        0               0  \n",
            "2  C3584357969           0.000           0.000        0               0  \n",
            "3  C4996589500           0.000           0.000        0               0  \n",
            "4  C5989915138           0.000           0.000        0               0  \n"
          ],
          "name": "stdout"
        }
      ]
    },
    {
      "cell_type": "code",
      "metadata": {
        "id": "1tmkIY7xIcjr",
        "colab_type": "code",
        "outputId": "1d8b1a0f-4f7a-44dc-acdd-b7a6fc824490",
        "colab": {
          "base_uri": "https://localhost:8080/",
          "height": 446
        }
      },
      "source": [
        "# Test data prep------------------------------------------------\n",
        "df_test_is_not_frd=df_total[is_not_frd].iloc[500000:1048575]\n",
        "print(\"is not fraud\\n\",df_test_is_not_frd.shape)\n",
        "\n",
        "df_test_is_frd=df_total[is_frd].iloc[15:]\n",
        "print(\"is fraud\\n\",df_test_is_frd.shape)\n",
        "df_total_test=pd.concat([df_test_is_not_frd,df_test_is_frd],ignore_index=True)\n",
        "\n",
        "print(\"Test data set\\n\", df_total_test.head())\n"
      ],
      "execution_count": 0,
      "outputs": [
        {
          "output_type": "stream",
          "text": [
            "is not fraud\n",
            " (548538, 12)\n",
            "is fraud\n",
            " (22, 12)\n",
            "Test data set\n",
            "        Id  step    action     amount     nameOrig  oldBalanceOrig  \\\n",
            "0  707161    40   PAYMENT   5777.610  C2557444903     1716634.170   \n",
            "1  707162    40  CASH_OUT 124490.380  C3243895863     3946440.420   \n",
            "2  707163    40  CASH_OUT 240525.600  C3243895863     3821950.040   \n",
            "3  707164    40   PAYMENT   7554.580  C3243895863     3581424.440   \n",
            "4  707165    40   CASH_IN 182141.240  C3243895863     3573869.850   \n",
            "\n",
            "   newBalanceOrig     nameDest  oldBalanceDest  newBalanceDest  isFraud  \\\n",
            "0     1710856.560  C2047268307       12938.470       18716.080        0   \n",
            "1     3821950.040  C3709962396       11264.010       11264.010        0   \n",
            "2     3581424.440  C5296560478       28789.470       28789.470        0   \n",
            "3     3573869.850  C2060253535       13093.120       20647.710        0   \n",
            "4     3756011.100  C9826470683       69865.800       69865.800        0   \n",
            "\n",
            "   isFlaggedFraud  \n",
            "0               0  \n",
            "1               0  \n",
            "2               0  \n",
            "3               0  \n",
            "4               0  \n"
          ],
          "name": "stdout"
        }
      ]
    },
    {
      "cell_type": "markdown",
      "metadata": {
        "id": "b6qovpWqfdRE",
        "colab_type": "text"
      },
      "source": [
        " **Transform character columns into numeric**"
      ]
    },
    {
      "cell_type": "code",
      "metadata": {
        "id": "9n6JdPSib2am",
        "colab_type": "code",
        "outputId": "bea8c83c-6bb2-47be-96c4-cc26c37f434f",
        "colab": {
          "base_uri": "https://localhost:8080/",
          "height": 703
        }
      },
      "source": [
        "# TURN CHARACTER VALUES INTO NUMERICS\n",
        "lb_make = LabelEncoder()\n",
        "df_total_train[\"nameOrig_num\"] = lb_make.fit_transform(df_total_train[\"nameOrig\"])\n",
        "#print(df_train_f1[[\"nameOrig_num\",\"nameOrig\"]])\n",
        "df_total_train[\"nameDest_num\"] = lb_make.fit_transform(df_total_train[\"nameDest\"])\n",
        "df_total_train[\"action_num\"] = lb_make.fit_transform(df_total_train[\"action\"])\n",
        "print(df_total_train.head())\n",
        "\n",
        "##-------------------------------------------\n",
        "df_total_test[\"nameOrig_num\"] = lb_make.fit_transform(df_total_test[\"nameOrig\"])\n",
        "#print(df_train_f1[[\"nameOrig_num\",\"nameOrig\"]])\n",
        "df_total_test[\"nameDest_num\"] = lb_make.fit_transform(df_total_test[\"nameDest\"])\n",
        "df_total_test[\"action_num\"] = lb_make.fit_transform(df_total_test[\"action\"])\n",
        "\n",
        "print(df_total_test.head())"
      ],
      "execution_count": 0,
      "outputs": [
        {
          "output_type": "stream",
          "text": [
            "   Id  step    action     amount     nameOrig  oldBalanceOrig  newBalanceOrig  \\\n",
            "0   0     0  TRANSFER     10.000  C0198526315       30112.000       30102.000   \n",
            "1   1     1   CASH_IN 104925.190  C9864462944          42.230      104967.410   \n",
            "2   2     1   CASH_IN  37383.170  C1474610910          49.830       37433.010   \n",
            "3   3     1   CASH_IN 131908.490  C1474610910       37433.010      169341.490   \n",
            "4   4     1   CASH_IN 127105.650  C1474610910      169341.490      296447.140   \n",
            "\n",
            "      nameDest  oldBalanceDest  newBalanceDest  isFraud  isFlaggedFraud  \\\n",
            "0  C4653045645       21927.840       21937.840        0               0   \n",
            "1  C7853342674           0.000           0.000        0               0   \n",
            "2  C3584357969           0.000           0.000        0               0   \n",
            "3  C4996589500           0.000           0.000        0               0   \n",
            "4  C5989915138           0.000           0.000        0               0   \n",
            "\n",
            "   nameOrig_num  nameDest_num  action_num  \n",
            "0           270         21925           4  \n",
            "1         13633         36820           0  \n",
            "2          2035         16967           0  \n",
            "3          2035         23488           0  \n",
            "4          2035         28125           0  \n",
            "       Id  step    action     amount     nameOrig  oldBalanceOrig  \\\n",
            "0  707161    40   PAYMENT   5777.610  C2557444903     1716634.170   \n",
            "1  707162    40  CASH_OUT 124490.380  C3243895863     3946440.420   \n",
            "2  707163    40  CASH_OUT 240525.600  C3243895863     3821950.040   \n",
            "3  707164    40   PAYMENT   7554.580  C3243895863     3581424.440   \n",
            "4  707165    40   CASH_IN 182141.240  C3243895863     3573869.850   \n",
            "\n",
            "   newBalanceOrig     nameDest  oldBalanceDest  newBalanceDest  isFraud  \\\n",
            "0     1710856.560  C2047268307       12938.470       18716.080        0   \n",
            "1     3821950.040  C3709962396       11264.010       11264.010        0   \n",
            "2     3581424.440  C5296560478       28789.470       28789.470        0   \n",
            "3     3573869.850  C2060253535       13093.120       20647.710        0   \n",
            "4     3756011.100  C9826470683       69865.800       69865.800        0   \n",
            "\n",
            "   isFlaggedFraud  nameOrig_num  nameDest_num  action_num  \n",
            "0               0          3515         10674           3  \n",
            "1               0          4508         19227           1  \n",
            "2               0          4508         27304           1  \n",
            "3               0          4508         10740           3  \n",
            "4               0          4508         50546           0  \n"
          ],
          "name": "stdout"
        }
      ]
    },
    {
      "cell_type": "markdown",
      "metadata": {
        "id": "U1ioLOeHm94V",
        "colab_type": "text"
      },
      "source": [
        "**Adding new columns for train data**"
      ]
    },
    {
      "cell_type": "code",
      "metadata": {
        "id": "KTEDI1fzm8a_",
        "colab_type": "code",
        "outputId": "2793a9e3-9342-4b38-da5f-909e77a0c000",
        "colab": {
          "base_uri": "https://localhost:8080/",
          "height": 480
        }
      },
      "source": [
        "\n",
        " #Calculating mean amount each sender customer\n",
        "  \n",
        "grouped = df_total_train['amount'].groupby(df_total_train['nameOrig_num'])\n",
        "grouped = grouped.mean()\n",
        "\n",
        "df_mean_amount_orig=pd.DataFrame(grouped)\n",
        "\n",
        "#print(\"mean amount\",df_mean_amount.head())\n",
        "\n",
        "\n",
        "\n",
        "# Calculating Standart deviation amount each sender customer\n",
        "\n",
        "grouped = df_total_train['amount'].groupby(df_total_train['nameOrig_num'])\n",
        "grouped = grouped.std(ddof=0)\n",
        "\n",
        "df_std=pd.DataFrame(grouped)\n",
        "\n",
        "#print(\"standard deviation\",df_std.head())\n",
        "\n",
        "\n",
        "# calculating number of destination customer each sender customer. \n",
        "grouped = df_total_train['nameDest_num'].groupby(df_total_train['nameOrig_num'])\n",
        "\n",
        "grouped = grouped.count()\n",
        "\n",
        "df_count_of_trans=pd.DataFrame(grouped)\n",
        "\n",
        "#print(\"number of transaction\",df_count_of_trans.head())\n",
        "\n",
        "\n",
        "\n",
        " #Calculating mean amount each receiver customer\n",
        "  \n",
        "grouped = df_total_train['amount'].groupby(df_total_train['nameDest_num'])\n",
        "grouped = grouped.mean()\n",
        "df_mean_amount_desc=pd.DataFrame(grouped)\n",
        "#print(\"mean amount\",df_mean_amount.head())\n",
        "\n",
        "\n",
        "\n",
        "# calculating number of transaction at the same time each receiver customer.\n",
        "#grouped=df_total_train.groupby(['nameOrig_num','step'])['nameDest_num']\n",
        "\n",
        "#grouped=grouped.count()\n",
        "#df_count_of_trns_same_time=pd.DataFrame(grouped)\n",
        "#print(\"number of transaction at the same time:\",df_count_of_trns_same_time)\n",
        "\n",
        "\n",
        "df_total_train = df_total_train.merge(df_mean_amount_orig, on=['nameOrig_num'], suffixes=('', '_Mean_Orig'))\n",
        "df_total_train = df_total_train.merge(df_std, on=['nameOrig_num'], suffixes=('', '_std'))\n",
        "df_total_train = df_total_train.merge(df_mean_amount_desc, on=['nameDest_num'], suffixes=('', '_Mean_Desc'))\n",
        "df_total_train = df_total_train.merge(df_count_of_trans, on=['nameOrig_num'], suffixes=('', '_count_of_trnsc'))\n",
        "\n",
        "#df_total_train = df_total_train.merge(df_count_of_trns_same_time,on=['nameOrig_num','step'], suffixes=('', '_count_of_trnsc_same_time'))\n",
        "print (df_total_train.head())\n",
        "\n",
        "\n",
        "\n",
        "\n"
      ],
      "execution_count": 0,
      "outputs": [
        {
          "output_type": "stream",
          "text": [
            "       Id  step    action     amount     nameOrig  oldBalanceOrig  \\\n",
            "0       0     0  TRANSFER     10.000  C0198526315       30112.000   \n",
            "1  214068    14   CASH_IN  17696.870  C0198526315       30102.000   \n",
            "2   14125     7  TRANSFER     20.000  C6369346098      168517.420   \n",
            "3  203332    13  CASH_OUT 204509.780  C6369346098     2448060.070   \n",
            "4  310007    16  CASH_OUT 194400.580  C6369346098     2251638.170   \n",
            "\n",
            "   newBalanceOrig     nameDest  oldBalanceDest  newBalanceDest  isFraud  \\\n",
            "0       30102.000  C4653045645       21927.840       21937.840        0   \n",
            "1       47798.870  C7929742496           0.000           0.000        0   \n",
            "2      168497.420  C4653045645       21977.840       21997.840        0   \n",
            "3     2243550.290  C4837797063       16780.720       16780.720        0   \n",
            "4     2057237.590  C6307476824           0.000           0.000        0   \n",
            "\n",
            "   isFlaggedFraud  nameOrig_num  nameDest_num  action_num  amount_Mean_Orig  \\\n",
            "0               0           270         21925           4          8853.435   \n",
            "1               0           270         37189           0          8853.435   \n",
            "2               0          8800         21925           4        151960.979   \n",
            "3               0          8800         22736           1        151960.979   \n",
            "4               0          8800         29608           1        151960.979   \n",
            "\n",
            "   amount_std  amount_Mean_Desc  nameDest_num_count_of_trnsc  \n",
            "0    8843.435            20.833                            2  \n",
            "1    8843.435        114113.766                            2  \n",
            "2  136215.683            20.833                           53  \n",
            "3  136215.683        151077.378                           53  \n",
            "4  136215.683        113037.789                           53  \n"
          ],
          "name": "stdout"
        }
      ]
    },
    {
      "cell_type": "markdown",
      "metadata": {
        "id": "QUXC_H3Ffakz",
        "colab_type": "text"
      },
      "source": [
        "Test Data"
      ]
    },
    {
      "cell_type": "code",
      "metadata": {
        "id": "viqi2qaUINGO",
        "colab_type": "code",
        "outputId": "c1bca744-5ada-4696-d704-19c0ff2696be",
        "colab": {
          "base_uri": "https://localhost:8080/",
          "height": 480
        }
      },
      "source": [
        "\n",
        "\n",
        " #Calculating mean amount each sender customer\n",
        "  \n",
        "grouped = df_total_test['amount'].groupby(df_total_test['nameOrig_num'])\n",
        "grouped = grouped.mean()\n",
        "df_mean_amount_orig=pd.DataFrame(grouped)\n",
        "#print(\"mean amount\",df_mean_amount.head())\n",
        "\n",
        "\n",
        "\n",
        "\n",
        "# Calculating Standart deviation amount each sender customer\n",
        "\n",
        "grouped = df_total_test['amount'].groupby(df_total_test['nameOrig_num'])\n",
        "grouped = grouped.std(ddof=0)\n",
        "df_std=pd.DataFrame(grouped)\n",
        "#print(\"standard deviation\",df_std.head())\n",
        "\n",
        "\n",
        "\n",
        "# Calculating number of destination customer each sender customer. \n",
        "\n",
        "grouped = df_total_test['nameDest_num'].groupby(df_total_test['nameOrig_num'])\n",
        "grouped = grouped.count()\n",
        "df_count_of_trans=pd.DataFrame(grouped)\n",
        "#print(\"number of transaction\",df_count_of_trans.head())\n",
        "\n",
        "\n",
        "\n",
        "\n",
        " #Calculating mean amount each receiver customer\n",
        "  \n",
        "grouped = df_total_test['amount'].groupby(df_total_test['nameDest_num'])\n",
        "grouped = grouped.mean()\n",
        "df_mean_amount_desc=pd.DataFrame(grouped)\n",
        "#print(\"mean amount\",df_mean_amount.head())\n",
        "\n",
        "\n",
        "# calculating number of transaction at the same time each receiver customer.\n",
        "#grouped=df_total_test.groupby(['nameOrig_num','step'])['nameDest_num']\n",
        "\n",
        "#grouped=grouped.count()\n",
        "#df_count_of_trns_same_time=pd.DataFrame(grouped)\n",
        "#print(\"number of transaction at the same time:\",df_count_of_trns_same_time)\n",
        "\n",
        "\n",
        "df_total_test = df_total_test.merge(df_mean_amount_orig, on=['nameOrig_num'], suffixes=('', '_Mean_Orig'))\n",
        "df_total_test = df_total_test.merge(df_mean_amount_desc, on=['nameDest_num'], suffixes=('', '_Mean_Desc'))\n",
        "df_total_test = df_total_test.merge(df_std, on=['nameOrig_num'], suffixes=('', '_std'))\n",
        "df_total_test = df_total_test.merge(df_count_of_trans, on=['nameOrig_num'], suffixes=('', '_count_of_trnsc'))\n",
        "\n",
        "#df_total_test = df_total_test.merge(df_count_of_trns_same_time,on=['nameOrig_num','step'], suffixes=('', '_count_of_trnsc_same_time'))\n",
        "print (df_total_test.head())\n"
      ],
      "execution_count": 0,
      "outputs": [
        {
          "output_type": "stream",
          "text": [
            "        Id  step   action     amount     nameOrig  oldBalanceOrig  \\\n",
            "0   707161    40  PAYMENT   5777.610  C2557444903     1716634.170   \n",
            "1   844672    44  CASH_IN  68978.030  C2557444903     1710856.560   \n",
            "2  1039979   136  CASH_IN  67838.210  C2557444903     1779834.590   \n",
            "3  1089831   138  CASH_IN 128970.650  C2557444903     1847672.800   \n",
            "4  1089832   138  PAYMENT   8197.180  C2557444903     1976643.460   \n",
            "\n",
            "   newBalanceOrig     nameDest  oldBalanceDest  newBalanceDest  isFraud  \\\n",
            "0     1710856.560  C2047268307       12938.470       18716.080        0   \n",
            "1     1779834.590  C8247068973       47289.550       47289.550        0   \n",
            "2     1847672.800  C1170173570       38727.030       38727.030        0   \n",
            "3     1976643.460  C8524020454       33548.810       33548.810        0   \n",
            "4     1968446.280  C1912319066       28919.960       37117.140        0   \n",
            "\n",
            "   isFlaggedFraud  nameOrig_num  nameDest_num  action_num  amount_Mean_Orig  \\\n",
            "0               0          3515         10674           3        127990.822   \n",
            "1               0          3515         42449           0        127990.822   \n",
            "2               0          3515          6108           0        127990.822   \n",
            "3               0          3515         43856           0        127990.822   \n",
            "4               0          3515          9973           3        127990.822   \n",
            "\n",
            "   amount_Mean_Desc  amount_std  nameDest_num_count_of_trnsc  \n",
            "0         56974.018   71462.008                           13  \n",
            "1        139061.758   71462.008                           13  \n",
            "2        111259.422   71462.008                           13  \n",
            "3         92222.941   71462.008                           13  \n",
            "4         94271.333   71462.008                           13  \n"
          ],
          "name": "stdout"
        }
      ]
    },
    {
      "cell_type": "code",
      "metadata": {
        "id": "RevP6tgWvUkV",
        "colab_type": "code",
        "outputId": "f9ff7e13-3d73-4e7f-e30e-9639807713bd",
        "colab": {
          "base_uri": "https://localhost:8080/",
          "height": 421
        }
      },
      "source": [
        "\n",
        "lister_4=['step', 'amount', 'oldBalanceOrig','newBalanceOrig', 'oldBalanceDest', 'newBalanceDest',\n",
        "'isFlaggedFraud', 'nameOrig_num', 'nameDest_num','action_num', 'amount_Mean_Orig', 'amount_std',\n",
        "'nameDest_num_count_of_trnsc','amount_Mean_Desc']\n",
        "lister_5=['isFraud']\n",
        "X_train=df_total_train[lister_4] # train df\n",
        "y_train=df_total_train[lister_5] # Fraud train df\n",
        "X_test=df_total_test[lister_4]  #test df \n",
        "y_test=df_total_test[lister_5]  #true fruad value for test\n",
        "\n",
        "# Create parameters to searc\n",
        "params ={\n",
        "    # Parameters that we are going to tune.\n",
        "    'n_estimators':10,\n",
        "    'max_depth': 2, #Result of tuning with CV\n",
        "    'eta':0.03, #Result of tuning with CV\n",
        "}\n",
        "model = xgb.XGBClassifier(params=params)\n",
        "\n",
        "# Training the models\n",
        "model.fit(X_train, y_train)\n",
        "\n",
        "\n",
        "#Predict_proba will give the only probability of 1.\n",
        "y_pred = model.predict_proba(X_test)\n",
        "\n",
        "precision, recall, thresholds = precision_recall_curve(y_test, y_pred[:,1])\n",
        "\n",
        "thresholds = np.append(thresholds, 1)\n",
        "f1_scores = 2*(precision*recall)/(precision+recall)\n",
        "\n",
        "\n",
        "average_precision = average_precision_score(y_test,  y_pred[:,1])\n",
        "\n",
        "print('Average precision-recall score: {0:0.2f}'.format(\n",
        "      average_precision))\n",
        "\n",
        "\n",
        "plt.step(recall, precision, color='b', alpha=0.4, where='post')\n",
        "plt.xlabel('Recall')\n",
        "plt.ylabel('Precision')\n",
        "plt.ylim([0.0, 1.05])\n",
        "plt.xlim([0.0, 1.0])\n",
        "plt.title('2-class Precision-Recall curve')\n",
        "plt.show()\n",
        "\n",
        "\n",
        "\n"
      ],
      "execution_count": 0,
      "outputs": [
        {
          "output_type": "stream",
          "text": [
            "/usr/local/lib/python3.6/dist-packages/sklearn/preprocessing/label.py:219: DataConversionWarning: A column-vector y was passed when a 1d array was expected. Please change the shape of y to (n_samples, ), for example using ravel().\n",
            "  y = column_or_1d(y, warn=True)\n",
            "/usr/local/lib/python3.6/dist-packages/sklearn/preprocessing/label.py:252: DataConversionWarning: A column-vector y was passed when a 1d array was expected. Please change the shape of y to (n_samples, ), for example using ravel().\n",
            "  y = column_or_1d(y, warn=True)\n"
          ],
          "name": "stderr"
        },
        {
          "output_type": "stream",
          "text": [
            "Average precision-recall score: 0.72\n"
          ],
          "name": "stdout"
        },
        {
          "output_type": "display_data",
          "data": {
            "image/png": "[encoded data removed]",
            "text/plain": [
              "<Figure size 432x288 with 1 Axes>"
            ]
          },
          "metadata": {
            "tags": []
          }
        }
      ]
    },
    {
      "cell_type": "code",
      "metadata": {
        "id": "YS-TBis9ENfE",
        "colab_type": "code",
        "outputId": "d56caac5-8da7-4273-83ae-fd03aa02498e",
        "colab": {
          "base_uri": "https://localhost:8080/",
          "height": 140
        }
      },
      "source": [
        "\n",
        "\n",
        "lister_4=['step', 'amount', 'oldBalanceOrig','newBalanceOrig', 'oldBalanceDest', 'newBalanceDest',\n",
        "'isFlaggedFraud', 'nameOrig_num', 'nameDest_num','action_num', 'amount_Mean_Orig', 'amount_std',\n",
        "'nameDest_num_count_of_trnsc','amount_Mean_Desc']\n",
        "lister_5=['isFraud']\n",
        "X_train=df_total_train[lister_4] # train df\n",
        "y_train=df_total_train[lister_5] # Fraud train df\n",
        "X_test=df_total_test[lister_4]  #test df \n",
        "y_test=df_total_test[lister_5]  #true fruad value for test\n",
        "\n",
        "# Create parameters to searc\n",
        "params ={\n",
        "    # Parameters that we are going to tune.\n",
        "    'n_estimators':10,\n",
        "    'max_depth': 2, #Result of tuning with CV\n",
        "    'eta':0.03, #Result of tuning with CV\n",
        "}\n",
        "\n",
        "\n",
        "\n",
        "model = xgb.XGBClassifier(params=params)\n",
        "model.fit(X_train, y_train)\n",
        "predictions=model.predict(X_test)\n",
        "\n",
        "accuracy = accuracy_score(y_test, model.predict(X_test))\n",
        "print(\"Accuracy: %.2f%%\" % (accuracy * 100.0))\n",
        "my_submission = pd.DataFrame( { 'real_fraud_value': y_test.isFraud,'is_fraud': predictions } )\n",
        "my_submission.to_csv('sample_submission.csv', index=False)\n",
        "print(\"Writing complete\")"
      ],
      "execution_count": 0,
      "outputs": [
        {
          "output_type": "stream",
          "text": [
            "/usr/local/lib/python3.6/dist-packages/sklearn/preprocessing/label.py:219: DataConversionWarning: A column-vector y was passed when a 1d array was expected. Please change the shape of y to (n_samples, ), for example using ravel().\n",
            "  y = column_or_1d(y, warn=True)\n",
            "/usr/local/lib/python3.6/dist-packages/sklearn/preprocessing/label.py:252: DataConversionWarning: A column-vector y was passed when a 1d array was expected. Please change the shape of y to (n_samples, ), for example using ravel().\n",
            "  y = column_or_1d(y, warn=True)\n"
          ],
          "name": "stderr"
        },
        {
          "output_type": "stream",
          "text": [
            "Accuracy: 99.92%\n",
            "Writing complete\n"
          ],
          "name": "stdout"
        }
      ]
    },
    {
      "cell_type": "code",
      "metadata": {
        "id": "HllLVGQNGwMd",
        "colab_type": "code",
        "outputId": "2143c59d-4a7b-49ff-a83c-9e7fd87d3ccc",
        "colab": {
          "base_uri": "https://localhost:8080/",
          "height": 171
        }
      },
      "source": [
        "print(classification_report(y_test, model.predict(X_test), labels=[0,1]))"
      ],
      "execution_count": 0,
      "outputs": [
        {
          "output_type": "stream",
          "text": [
            "              precision    recall  f1-score   support\n",
            "\n",
            "           0       1.00      1.00      1.00    548538\n",
            "           1       0.04      0.91      0.08        22\n",
            "\n",
            "    accuracy                           1.00    548560\n",
            "   macro avg       0.52      0.95      0.54    548560\n",
            "weighted avg       1.00      1.00      1.00    548560\n",
            "\n"
          ],
          "name": "stdout"
        }
      ]
    },
    {
      "cell_type": "code",
      "metadata": {
        "id": "gWkUpNOf8QfQ",
        "colab_type": "code",
        "outputId": "6428dcd1-c50a-4425-bd72-0df273a12b18",
        "colab": {
          "base_uri": "https://localhost:8080/",
          "height": 481
        }
      },
      "source": [
        "data = confusion_matrix(y_test,model.predict(X_test))\n",
        "df_cm = pd.DataFrame(data, columns=np.unique(y_test), index = np.unique(y_test))\n",
        "df_cm.index.name = 'Actual'\n",
        "df_cm.columns.name = 'Predicted'\n",
        "plt.figure(figsize = (10,7))\n",
        "sns.set(font_scale=1.4)#for label size\n",
        "sns.heatmap(df_cm, cmap=\"Blues\", annot=True,annot_kws={\"size\": 16})# font size"
      ],
      "execution_count": 0,
      "outputs": [
        {
          "output_type": "execute_result",
          "data": {
            "text/plain": [
              "<matplotlib.axes._subplots.AxesSubplot at 0x7ffb49984b00>"
            ]
          },
          "metadata": {
            "tags": []
          },
          "execution_count": 164
        },
        {
          "output_type": "display_data",
          "data": {
            "image/png": "[encoded data removed]",
            "text/plain": [
              "<Figure size 720x504 with 2 Axes>"
            ]
          },
          "metadata": {
            "tags": []
          }
        }
      ]
    }
  ]
}